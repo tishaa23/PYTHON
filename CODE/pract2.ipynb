{
 "cells": [
  {
   "cell_type": "code",
   "execution_count": 2,
   "id": "a6d74569",
   "metadata": {},
   "outputs": [
    {
     "name": "stdout",
     "output_type": "stream",
     "text": [
      "['python', 'java', 'c++', [10, 20, 30]]\n",
      "4\n"
     ]
    }
   ],
   "source": [
    "list1=[1,2,3,4,[\"python\",\"java\",\"c++\",[10,20,30]],5,6,7,[\"apple\",\"banana\",\"orange\"]]\n",
    "print(list1[4])\n",
    "print(list1[3])"
   ]
  },
  {
   "cell_type": "code",
   "execution_count": 6,
   "id": "e6b3d388",
   "metadata": {},
   "outputs": [
    {
     "name": "stdout",
     "output_type": "stream",
     "text": [
      "python\n",
      "orange\n"
     ]
    }
   ],
   "source": [
    "print(list1[4][0])\n",
    "print(list1[8][2])"
   ]
  },
  {
   "cell_type": "code",
   "execution_count": 7,
   "id": "4cfe8a93",
   "metadata": {},
   "outputs": [
    {
     "name": "stdout",
     "output_type": "stream",
     "text": [
      "[1, 2, 3, 4, ['python', 'java', 'c++', [10, 20, 30]], 5, 6, 7, ['apple', 'banana', 'orange']]\n"
     ]
    }
   ],
   "source": [
    "print(list1[::1])"
   ]
  },
  {
   "cell_type": "code",
   "execution_count": null,
   "id": "a1287bd2",
   "metadata": {},
   "outputs": [
    {
     "name": "stdout",
     "output_type": "stream",
     "text": [
      "[1, 2, 3, 4, ['python', 'java', 'c++', [10, 20, 30]], 5, 6, 7, ['apple', 'banana', 'orange']]\n"
     ]
    }
   ],
   "source": [
    "print(list1)"
   ]
  },
  {
   "cell_type": "code",
   "execution_count": 6,
   "id": "fab2fc91",
   "metadata": {},
   "outputs": [
    {
     "name": "stdout",
     "output_type": "stream",
     "text": [
      "[1, 2, 3]\n"
     ]
    }
   ],
   "source": [
    "listt=[1,2,3]\n",
    "print(listt)"
   ]
  }
 ],
 "metadata": {
  "kernelspec": {
   "display_name": "Python 3 (ipykernel)",
   "language": "python",
   "name": "python3"
  },
  "language_info": {
   "codemirror_mode": {
    "name": "ipython",
    "version": 3
   },
   "file_extension": ".py",
   "mimetype": "text/x-python",
   "name": "python",
   "nbconvert_exporter": "python",
   "pygments_lexer": "ipython3",
   "version": "3.12.1"
  }
 },
 "nbformat": 4,
 "nbformat_minor": 5
}
