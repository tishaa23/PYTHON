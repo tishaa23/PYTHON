{
 "cells": [
  {
   "cell_type": "code",
   "execution_count": 8,
   "metadata": {},
   "outputs": [
    {
     "name": "stdout",
     "output_type": "stream",
     "text": [
      "ahsiT\n",
      "dlroW olleH\n"
     ]
    }
   ],
   "source": [
    "str='Tisha'\n",
    "print(str[-1::-1])\n",
    "str1='Hello World'\n",
    "print(str1[-1::-1])\n"
   ]
  },
  {
   "cell_type": "code",
   "execution_count": 12,
   "metadata": {},
   "outputs": [
    {
     "name": "stdout",
     "output_type": "stream",
     "text": [
      "2\n",
      "-1\n"
     ]
    }
   ],
   "source": [
    "str='Tisha'\n",
    "print(str.find('s'))\n",
    "print(str.find('j'))\n"
   ]
  },
  {
   "cell_type": "code",
   "execution_count": 14,
   "metadata": {},
   "outputs": [
    {
     "name": "stdout",
     "output_type": "stream",
     "text": [
      "T\n",
      "i\n",
      "s\n",
      "h\n",
      "a\n"
     ]
    }
   ],
   "source": [
    "a,b,c,d,e='Tisha'\n",
    "print(a)\n",
    "print(b)\n",
    "print(c)\n",
    "print(d)\n",
    "print(e)"
   ]
  },
  {
   "cell_type": "code",
   "execution_count": 15,
   "metadata": {},
   "outputs": [
    {
     "name": "stdout",
     "output_type": "stream",
     "text": [
      "['Hello', 'World']\n"
     ]
    }
   ],
   "source": [
    "str='Hello World'\n",
    "print(str.split(\" \"))"
   ]
  },
  {
   "cell_type": "code",
   "execution_count": 19,
   "metadata": {},
   "outputs": [
    {
     "name": "stdout",
     "output_type": "stream",
     "text": [
      "{'name': 'Tisha', 'Age': 19, 'City': 'Vadodara'}\n",
      "dict['age']\n"
     ]
    }
   ],
   "source": [
    "dict1={'name':'Tisha','Age':19,'City':'Vadodara'}\n",
    "print(dict1)\n",
    "\n"
   ]
  },
  {
   "cell_type": "code",
   "execution_count": 42,
   "metadata": {},
   "outputs": [
    {
     "name": "stdout",
     "output_type": "stream",
     "text": [
      "19\n",
      "('city', 'Vadodara')\n"
     ]
    }
   ],
   "source": [
    "dict1={'name':'Tisha','Age':19,'city':'Vadodara'}\n",
    "print(dict1.pop('Age'))\n",
    "print(dict1.popitem())"
   ]
  },
  {
   "cell_type": "code",
   "execution_count": 47,
   "metadata": {},
   "outputs": [
    {
     "name": "stdout",
     "output_type": "stream",
     "text": [
      "19\n",
      "Tisha\n",
      "{'name1': 'xyz', 'Age1': 19, 'City1': 'Vadodara'}\n",
      "{'name': 'Tisha', 'Age': 19, 'city': 'Vadodara', 'name1': 'xyz', 'Age1': 19, 'City1': 'Vadodara'}\n"
     ]
    }
   ],
   "source": [
    "dict1={'name':'Tisha','Age':19,'city':'Vadodara'}\n",
    "print(dict1['Age'])\n",
    "print(dict1.get('name'))\n",
    "dict2={'name1':'xyz','Age1':19,'City1':'Vadodara'}\n",
    "dict3=dict1.copy()\n",
    "dict3.update(dict2)\n",
    "print(dict2)\n",
    "print(dict3)"
   ]
  },
  {
   "cell_type": "code",
   "execution_count": 46,
   "metadata": {},
   "outputs": [
    {
     "name": "stdout",
     "output_type": "stream",
     "text": [
      "dict_keys(['name1', 'Age1', 'City1'])\n",
      "dict_values(['xyz', 19, 'Vadodara'])\n"
     ]
    }
   ],
   "source": [
    "dict2={'name1':'xyz','Age1':19,'City1':'Vadodara'}\n",
    "print(dict2.keys())\n",
    "print(dict2.values())\n"
   ]
  },
  {
   "cell_type": "code",
   "execution_count": 50,
   "metadata": {},
   "outputs": [
    {
     "name": "stdout",
     "output_type": "stream",
     "text": [
      "\n"
     ]
    }
   ],
   "source": []
  },
  {
   "cell_type": "code",
   "execution_count": null,
   "metadata": {},
   "outputs": [],
   "source": []
  }
 ],
 "metadata": {
  "kernelspec": {
   "display_name": "Python 3",
   "language": "python",
   "name": "python3"
  },
  "language_info": {
   "codemirror_mode": {
    "name": "ipython",
    "version": 3
   },
   "file_extension": ".py",
   "mimetype": "text/x-python",
   "name": "python",
   "nbconvert_exporter": "python",
   "pygments_lexer": "ipython3",
   "version": "3.12.1"
  }
 },
 "nbformat": 4,
 "nbformat_minor": 2
}
